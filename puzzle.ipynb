{
 "cells": [
  {
   "metadata": {
    "ExecuteTime": {
     "end_time": "2024-11-02T21:03:20.696548Z",
     "start_time": "2024-11-02T21:03:20.684611Z"
    }
   },
   "cell_type": "code",
   "source": [
    "import timeit\n",
    "import random\n",
    "import copy\n",
    "from typing import no_type_check_decorator"
   ],
   "id": "b454e04f465740fd",
   "outputs": [],
   "execution_count": 528
  },
  {
   "cell_type": "code",
   "id": "initial_id",
   "metadata": {
    "collapsed": true,
    "ExecuteTime": {
     "end_time": "2024-11-02T21:03:20.714280Z",
     "start_time": "2024-11-02T21:03:20.708525Z"
    }
   },
   "source": "META = [[1,2,3],[4,5,6],[7,8,0]]",
   "outputs": [],
   "execution_count": 529
  },
  {
   "metadata": {
    "ExecuteTime": {
     "end_time": "2024-11-02T21:03:20.775643Z",
     "start_time": "2024-11-02T21:03:20.765658Z"
    }
   },
   "cell_type": "code",
   "source": [
    "class No:\n",
    "  def __init__(self, estado, nopai, g, h):\n",
    "    self.estado = estado\n",
    "    self.pai = nopai\n",
    "    self.g = g\n",
    "    self.h = h\n",
    "    \n",
    "  def __eq__(self, outro):\n",
    "    return self.estado == outro.estado\n",
    " \n",
    "  def __repr__(self):\n",
    "    return str(self.estado)\n",
    "  \n",
    "  def getState(self):\n",
    "    return self.estado\n",
    "    "
   ],
   "id": "fc34ad172074d2a6",
   "outputs": [],
   "execution_count": 530
  },
  {
   "metadata": {
    "ExecuteTime": {
     "end_time": "2024-11-02T21:03:20.829224Z",
     "start_time": "2024-11-02T21:03:20.820890Z"
    }
   },
   "cell_type": "code",
   "source": [
    "def solucionavel(lista):\n",
    "  inversoes = 0\n",
    "  for i,e in enumerate(lista):\n",
    "    if e == 0:\n",
    "      continue\n",
    "    for j in range(i+1, len(lista)):\n",
    "      if lista[j] == 0:\n",
    "        continue\n",
    "      if e > lista[j]:\n",
    "        inversoes += 1\n",
    "  if inversoes % 2 == 1:\n",
    "    return False\n",
    "  else:\n",
    "    return True"
   ],
   "id": "65aee7e82ae6920b",
   "outputs": [],
   "execution_count": 531
  },
  {
   "metadata": {
    "ExecuteTime": {
     "end_time": "2024-11-02T21:03:20.899427Z",
     "start_time": "2024-11-02T21:03:20.884917Z"
    }
   },
   "cell_type": "code",
   "source": [
    "def geraInicial(st=META[:]):\n",
    "  lista = [j for i in st for j in i]\n",
    "  while True:\n",
    "    random.shuffle(lista)\n",
    "    st = [lista[:3]] + [lista[3:6]]+[lista[6:]]\n",
    "    if solucionavel(lista) and st != META: return st\n",
    "  return 0"
   ],
   "id": "db31f7c281806f47",
   "outputs": [],
   "execution_count": 532
  },
  {
   "metadata": {
    "ExecuteTime": {
     "end_time": "2024-11-02T21:03:21.001669Z",
     "start_time": "2024-11-02T21:03:20.996132Z"
    }
   },
   "cell_type": "code",
   "source": "##geraInicial()",
   "id": "4333e5230c387675",
   "outputs": [],
   "execution_count": 533
  },
  {
   "metadata": {
    "ExecuteTime": {
     "end_time": "2024-11-02T21:03:21.044655Z",
     "start_time": "2024-11-02T21:03:21.037468Z"
    }
   },
   "cell_type": "code",
   "source": [
    "def localizar(estado, elemento = 0):\n",
    "  for i in range(3):\n",
    "    for j in range(3):\n",
    "      if estado[i][j] == elemento:\n",
    "        linha = i \n",
    "        coluna = j\n",
    "        return linha, coluna"
   ],
   "id": "e683682939dd1ffe",
   "outputs": [],
   "execution_count": 534
  },
  {
   "metadata": {
    "ExecuteTime": {
     "end_time": "2024-11-02T21:03:21.100698Z",
     "start_time": "2024-11-02T21:03:21.090654Z"
    }
   },
   "cell_type": "code",
   "source": [
    "def distanciaQuarteirao(st1, st2):\n",
    "  dist = 0\n",
    "  fora = 0\n",
    "  for i in range(3):\n",
    "    for j in range(3):\n",
    "      if st1[i][j] == 0:\n",
    "        continue\n",
    "      i2, j2 = localizar(st2, st1[i][j])\n",
    "      if i2 != i or j2 != j: fora += 1\n",
    "      dist += abs(i2 - i) + abs(j2 - j)\n",
    "  return dist + fora "
   ],
   "id": "26c9d207c3311f7f",
   "outputs": [],
   "execution_count": 535
  },
  {
   "metadata": {
    "ExecuteTime": {
     "end_time": "2024-11-02T21:03:21.161060Z",
     "start_time": "2024-11-02T21:03:21.153071Z"
    }
   },
   "cell_type": "code",
   "source": [
    "def criarNo(estado, pai, g = 0):\n",
    "  h = g + distanciaQuarteirao(estado, META)\n",
    "  return No(estado, pai, g, h)"
   ],
   "id": "4272c30621097a09",
   "outputs": [],
   "execution_count": 536
  },
  {
   "metadata": {
    "ExecuteTime": {
     "end_time": "2024-11-02T21:03:21.216151Z",
     "start_time": "2024-11-02T21:03:21.208202Z"
    }
   },
   "cell_type": "code",
   "source": [
    "def inserirNo(no, fronteira):\n",
    "  if no in fronteira:\n",
    "    return fronteira\n",
    "  fronteira.append(no)\n",
    "  chave = fronteira[-1]\n",
    "  j = len(fronteira)-2\n",
    "  while fronteira[j].h > chave.h and j >= 0:\n",
    "    fronteira[j+1] = fronteira[j]\n",
    "    fronteira[j] = chave\n",
    "    j -= 1\n",
    "  return fronteira"
   ],
   "id": "492711361949de50",
   "outputs": [],
   "execution_count": 537
  },
  {
   "metadata": {
    "ExecuteTime": {
     "end_time": "2024-11-02T21:03:21.296104Z",
     "start_time": "2024-11-02T21:03:21.268847Z"
    }
   },
   "cell_type": "code",
   "source": [
    "def moverAbaixo(estado):\n",
    "  linha, coluna = localizar(estado)\n",
    "  if linha < 2:\n",
    "    estado[linha + 1][coluna], estado[linha][coluna] = estado[linha][coluna], estado[linha+1][coluna]\n",
    "  return estado\n",
    "\n",
    "\n",
    "def moverAcima(estado):\n",
    "  linha, coluna = localizar(estado)\n",
    "  if linha > 0:\n",
    "    estado[linha - 1][coluna], estado[linha][coluna] = estado[linha][coluna], estado[linha - 1][\n",
    "      coluna]\n",
    "  return estado\n",
    "\n",
    "\n",
    "def moverDireita(estado):\n",
    "  linha, coluna = localizar(estado)\n",
    "  if coluna < 2:\n",
    "    estado[linha][coluna + 1], estado[linha][coluna] = estado[linha][coluna], estado[linha][\n",
    "      coluna + 1]\n",
    "  return estado\n",
    "\n",
    "\n",
    "def moverEsquerda(estado):\n",
    "  linha, coluna = localizar(estado)\n",
    "  if coluna > 0:\n",
    "    estado[linha][coluna - 1], estado[linha][coluna] = estado[linha][coluna], estado[linha][\n",
    "      coluna - 1]\n",
    "  return estado"
   ],
   "id": "9608d845537487c5",
   "outputs": [],
   "execution_count": 538
  },
  {
   "metadata": {
    "ExecuteTime": {
     "end_time": "2024-11-02T21:03:21.407361Z",
     "start_time": "2024-11-02T21:03:21.397565Z"
    }
   },
   "cell_type": "code",
   "source": [
    "def sucessor(no):\n",
    "  estado = no.estado\n",
    "  pai = no.pai\n",
    "  if pai:\n",
    "    estadoPai = pai.estado\n",
    "  else:\n",
    "    estadoPai = None\n",
    "    \n",
    "  listaS = []\n",
    "  \n",
    "  l1 = moverAcima(copy.deepcopy(estado))\n",
    "  if l1 != estado:\n",
    "    listaS.append(l1)\n",
    "    \n",
    "  l2 = moverDireita(copy.deepcopy(estado))\n",
    "  if l2 != estado:\n",
    "    listaS.append(l2)\n",
    "    \n",
    "  l3 = moverAbaixo(copy.deepcopy(estado))\n",
    "  if l3 != estado:\n",
    "    listaS.append(l3)\n",
    "    \n",
    "  l4 = moverEsquerda(copy.deepcopy(estado))\n",
    "  if l4 != estado:\n",
    "    listaS.append(l4)\n",
    "    \n",
    "  return listaS"
   ],
   "id": "bf10082351ceda1e",
   "outputs": [],
   "execution_count": 539
  },
  {
   "metadata": {
    "ExecuteTime": {
     "end_time": "2024-11-02T21:03:21.469950Z",
     "start_time": "2024-11-02T21:03:21.453891Z"
    }
   },
   "cell_type": "code",
   "source": [
    "def busca(max, noInicio):\n",
    "  print(noInicio, \":\")\n",
    "  nmov = 0\n",
    "  borda = [noInicio]\n",
    "  while borda:\n",
    "    no = borda.pop(0)\n",
    "    if no.estado == META:\n",
    "      sol = []\n",
    "      while True:\n",
    "        sol.append(no.estado)\n",
    "        no = no.pai\n",
    "        if not no: break\n",
    "      sol.reverse()\n",
    "      return sol, nmov\n",
    "    \n",
    "    nmov += 1\n",
    "\n",
    "    if (nmov%(max/10)) == 0: print(nmov, end = \"....\")\n",
    "    if nmov > max: break\n",
    "    sucs = sucessor(no)\n",
    "    for s in sucs:\n",
    "      inserirNo(criarNo(s, no, no.g+1), borda)\n",
    "  return 0, nmov"
   ],
   "id": "dd380c5ad84442c9",
   "outputs": [],
   "execution_count": 540
  },
  {
   "metadata": {
    "ExecuteTime": {
     "end_time": "2024-11-02T21:03:21.543366Z",
     "start_time": "2024-11-02T21:03:21.525900Z"
    }
   },
   "cell_type": "code",
   "source": [
    "def puzzle(maxD, nAmostras):\n",
    "  tempos = []\n",
    "  solucionados =[]\n",
    "  solucoes = []\n",
    "  naoSolucionados = []\n",
    "  nS = 0\n",
    "  nNs = 0\n",
    "  \n",
    "  for i in range(nAmostras):\n",
    "    noInicial = criarNo(geraInicial(), None)\n",
    "    start_time = timeit.default_timer()\n",
    "    res, nmov = busca(maxD, noInicial)\n",
    "    tempo = timeit.default_timer() - start_time\n",
    "    if res:\n",
    "      solucoes.append(res)\n",
    "      print(\"\\nSolucionado em {} segundos e {} movimentos\".format(tempo, nmov))\n",
    "      tempos.append(tempo)\n",
    "      solucionados.append((noInicial.estado, nmov))\n",
    "      nS += 1\n",
    "    else:\n",
    "      print(\"\\nFalhou em {} segundos e {} movimentos\".format(tempo, nmov))\n",
    "      naoSolucionados.append((noInicial.estado, nmov))\n",
    "      tempos.append(None)\n",
    "      nNs += 1\n",
    "  print(\"Solucionados {} e não solucionados {}\".format(nS, nNs))\n",
    "  return tempos, solucionados, naoSolucionados, nS, nNs\n",
    "  "
   ],
   "id": "5d32f0736623e2bb",
   "outputs": [],
   "execution_count": 541
  },
  {
   "metadata": {
    "ExecuteTime": {
     "end_time": "2024-11-02T21:03:30.956408Z",
     "start_time": "2024-11-02T21:03:21.590235Z"
    }
   },
   "cell_type": "code",
   "source": "sol = puzzle(3000, 10)",
   "id": "7990c435231d3778",
   "outputs": [
    {
     "name": "stdout",
     "output_type": "stream",
     "text": [
      "[[6, 8, 2], [3, 7, 1], [4, 0, 5]] :\n",
      "300....600....900....\n",
      "Solucionado em 0.6358753829990746 segundos e 996 movimentos\n",
      "[[0, 7, 6], [3, 5, 4], [8, 1, 2]] :\n",
      "300....\n",
      "Solucionado em 0.12172958000155631 segundos e 381 movimentos\n",
      "[[8, 0, 5], [2, 7, 1], [4, 6, 3]] :\n",
      "\n",
      "Solucionado em 0.039477701000578236 segundos e 144 movimentos\n",
      "[[7, 8, 6], [5, 0, 3], [2, 1, 4]] :\n",
      "300....600....900....1200....1500....1800....2100....\n",
      "Solucionado em 2.895305723999627 segundos e 2329 movimentos\n",
      "[[3, 5, 4], [1, 0, 8], [7, 2, 6]] :\n",
      "300....600....\n",
      "Solucionado em 0.28181374999985565 segundos e 643 movimentos\n",
      "[[8, 6, 5], [0, 3, 7], [2, 1, 4]] :\n",
      "300....600....900....1200....1500....\n",
      "Solucionado em 2.496896115000709 segundos e 1695 movimentos\n",
      "[[3, 8, 0], [1, 7, 2], [4, 5, 6]] :\n",
      "300....600....900....1200....1500....1800....\n",
      "Solucionado em 2.094738439998764 segundos e 1973 movimentos\n",
      "[[2, 7, 0], [1, 3, 5], [6, 4, 8]] :\n",
      "300....600....900....\n",
      "Solucionado em 0.49934722400212195 segundos e 948 movimentos\n",
      "[[7, 4, 8], [6, 0, 2], [3, 1, 5]] :\n",
      "300....\n",
      "Solucionado em 0.1334861129980709 segundos e 364 movimentos\n",
      "[[0, 3, 6], [1, 7, 5], [4, 2, 8]] :\n",
      "300....\n",
      "Solucionado em 0.15921379599967622 segundos e 480 movimentos\n",
      "Solucionados 10 e não solucionados 0\n"
     ]
    }
   ],
   "execution_count": 542
  },
  {
   "metadata": {
    "ExecuteTime": {
     "end_time": "2024-11-02T21:03:34.375471Z",
     "start_time": "2024-11-02T21:03:31.007300Z"
    }
   },
   "cell_type": "code",
   "source": [
    "import matplotlib as mpl\n",
    "import matplotlib.pyplot as plt"
   ],
   "id": "58bd253d3ed32c5",
   "outputs": [],
   "execution_count": 543
  },
  {
   "metadata": {
    "ExecuteTime": {
     "end_time": "2024-11-02T21:03:34.849640Z",
     "start_time": "2024-11-02T21:03:34.408562Z"
    }
   },
   "cell_type": "code",
   "source": [
    "a, b, f, x, y = sol\n",
    "movimentos =[i[1] for i in b]\n",
    "plt.rcParams['figure.figsize'] = [14,7]\n",
    "n, b, p = plt.hist(movimentos, 10, facecolor = 'g', alpha = 0.75)\n",
    "plt.xlabel('Número de movimento')\n",
    "plt.ylabel('Casos')\n",
    "plt.title('Histograma da resolução do Puzzle')\n",
    "plt.grid(True)\n",
    "plt.show()"
   ],
   "id": "1f12b00d39c001e7",
   "outputs": [
    {
     "data": {
      "text/plain": [
       "<Figure size 1400x700 with 1 Axes>"
      ],
      "image/png": "[encoded data removed]"
     },
     "metadata": {},
     "output_type": "display_data"
    }
   ],
   "execution_count": 544
  },
  {
   "metadata": {
    "ExecuteTime": {
     "end_time": "2024-11-02T21:09:12.693956Z",
     "start_time": "2024-11-02T21:05:24.395192Z"
    }
   },
   "cell_type": "code",
   "source": [
    "a, b, c, d, e = puzzle(15000, 100)\n",
    "n, b, p = plt.hist(movimentos, 10, facecolor = 'b', alpha = 0.55, label = 'Movimentos')\n",
    "plt.xlabel('Número de movimento')\n",
    "plt.ylabel('Casos')\n",
    "plt.title('Histograma da resolução do Puzzle')\n",
    "plt.grid(True)\n",
    "plt.show()"
   ],
   "id": "85c0561be9301704",
   "outputs": [
    {
     "name": "stdout",
     "output_type": "stream",
     "text": [
      "[[0, 4, 3], [8, 7, 2], [6, 5, 1]] :\n",
      "\n",
      "Solucionado em 0.7639317379980639 segundos e 1427 movimentos\n",
      "[[0, 1, 5], [8, 6, 4], [7, 3, 2]] :\n",
      "1500....\n",
      "Solucionado em 0.9166966319971834 segundos e 1593 movimentos\n",
      "[[2, 8, 6], [0, 5, 1], [3, 4, 7]] :\n",
      "\n",
      "Solucionado em 0.6029680430001463 segundos e 1463 movimentos\n",
      "[[1, 3, 8], [2, 7, 4], [0, 6, 5]] :\n",
      "\n",
      "Solucionado em 0.04372245300328359 segundos e 261 movimentos\n",
      "[[1, 6, 2], [8, 3, 5], [0, 7, 4]] :\n",
      "1500....\n",
      "Solucionado em 0.9378507020010147 segundos e 1996 movimentos\n",
      "[[6, 5, 8], [3, 0, 1], [2, 4, 7]] :\n",
      "\n",
      "Solucionado em 0.04329872699963744 segundos e 249 movimentos\n",
      "[[5, 2, 8], [3, 1, 7], [6, 0, 4]] :\n",
      "\n",
      "Solucionado em 0.020868597999651683 segundos e 146 movimentos\n",
      "[[4, 1, 5], [8, 0, 2], [3, 7, 6]] :\n",
      "\n",
      "Solucionado em 0.0039945419994182885 segundos e 38 movimentos\n",
      "[[5, 2, 6], [3, 8, 4], [7, 1, 0]] :\n",
      "1500....\n",
      "Solucionado em 1.8373353650022182 segundos e 2751 movimentos\n",
      "[[1, 5, 0], [3, 6, 2], [7, 8, 4]] :\n",
      "\n",
      "Solucionado em 0.04592655799933709 segundos e 310 movimentos\n",
      "[[8, 7, 2], [3, 1, 6], [0, 5, 4]] :\n",
      "\n",
      "Solucionado em 0.1773872840021795 segundos e 691 movimentos\n",
      "[[3, 2, 6], [5, 4, 0], [1, 8, 7]] :\n",
      "1500....\n",
      "Solucionado em 0.9154401129999314 segundos e 1788 movimentos\n",
      "[[8, 4, 1], [6, 2, 0], [7, 5, 3]] :\n",
      "\n",
      "Solucionado em 0.104937053998583 segundos e 445 movimentos\n",
      "[[7, 8, 3], [4, 2, 6], [5, 0, 1]] :\n",
      "1500....3000....4500....\n",
      "Solucionado em 4.60927747200185 segundos e 4617 movimentos\n",
      "[[3, 7, 6], [1, 0, 4], [8, 2, 5]] :\n",
      "\n",
      "Solucionado em 0.09445998000228428 segundos e 438 movimentos\n",
      "[[6, 5, 4], [3, 0, 7], [8, 1, 2]] :\n",
      "\n",
      "Solucionado em 0.1690964730005362 segundos e 600 movimentos\n",
      "[[2, 3, 8], [0, 7, 4], [6, 1, 5]] :\n",
      "\n",
      "Solucionado em 0.00345299599939608 segundos e 28 movimentos\n",
      "[[7, 6, 3], [4, 8, 1], [2, 5, 0]] :\n",
      "1500....\n",
      "Solucionado em 1.1524443109992717 segundos e 2020 movimentos\n",
      "[[3, 8, 1], [4, 2, 7], [6, 0, 5]] :\n",
      "1500....\n",
      "Solucionado em 0.8466524340001342 segundos e 1725 movimentos\n",
      "[[8, 6, 7], [4, 1, 2], [3, 0, 5]] :\n",
      "1500....3000....4500....6000....\n",
      "Solucionado em 9.70418374899964 segundos e 6171 movimentos\n",
      "[[8, 3, 5], [0, 2, 1], [6, 4, 7]] :\n",
      "\n",
      "Solucionado em 0.07345511799940141 segundos e 401 movimentos\n",
      "[[2, 5, 1], [0, 7, 3], [8, 6, 4]] :\n",
      "\n",
      "Solucionado em 0.5555882940025185 segundos e 1409 movimentos\n",
      "[[3, 2, 6], [0, 7, 8], [1, 4, 5]] :\n",
      "\n",
      "Solucionado em 0.03145752599812113 segundos e 208 movimentos\n",
      "[[3, 5, 0], [4, 2, 6], [7, 1, 8]] :\n",
      "\n",
      "Solucionado em 0.026454807997652097 segundos e 213 movimentos\n",
      "[[6, 5, 0], [8, 4, 7], [1, 2, 3]] :\n",
      "1500....3000....4500....\n",
      "Solucionado em 5.996821977001673 segundos e 4746 movimentos\n",
      "[[1, 6, 0], [5, 4, 2], [3, 8, 7]] :\n",
      "1500....3000....\n",
      "Solucionado em 4.3699881749998895 segundos e 4353 movimentos\n",
      "[[0, 3, 2], [4, 5, 7], [1, 8, 6]] :\n",
      "1500....\n",
      "Solucionado em 0.8235146980005084 segundos e 1796 movimentos\n",
      "[[6, 8, 7], [1, 5, 3], [0, 2, 4]] :\n",
      "1500....3000....4500....\n",
      "Solucionado em 5.332316751999315 segundos e 4522 movimentos\n",
      "[[2, 0, 5], [4, 1, 6], [8, 7, 3]] :\n",
      "1500....3000....\n",
      "Solucionado em 4.260144589999982 segundos e 4399 movimentos\n",
      "[[0, 1, 5], [4, 3, 7], [8, 2, 6]] :\n",
      "\n",
      "Solucionado em 0.035333815998455975 segundos e 250 movimentos\n",
      "[[0, 6, 7], [2, 5, 4], [3, 8, 1]] :\n",
      "1500....3000....\n",
      "Solucionado em 5.091344101001596 segundos e 4382 movimentos\n",
      "[[5, 6, 7], [0, 4, 1], [3, 2, 8]] :\n",
      "1500....\n",
      "Solucionado em 0.7750614510005107 segundos e 1642 movimentos\n",
      "[[7, 4, 0], [2, 3, 1], [8, 6, 5]] :\n",
      "\n",
      "Solucionado em 0.006322696001006989 segundos e 57 movimentos\n",
      "[[5, 0, 7], [4, 8, 2], [3, 1, 6]] :\n",
      "1500....\n",
      "Solucionado em 1.1802737040015927 segundos e 1955 movimentos\n",
      "[[4, 7, 5], [3, 6, 8], [2, 0, 1]] :\n",
      "\n",
      "Solucionado em 0.022743513000023086 segundos e 163 movimentos\n",
      "[[1, 5, 3], [6, 0, 8], [4, 2, 7]] :\n",
      "\n",
      "Solucionado em 0.0954629619991465 segundos e 512 movimentos\n",
      "[[4, 2, 0], [6, 1, 7], [8, 5, 3]] :\n",
      "\n",
      "Solucionado em 0.18775434399867663 segundos e 705 movimentos\n",
      "[[1, 7, 4], [5, 3, 6], [8, 2, 0]] :\n",
      "\n",
      "Solucionado em 0.29787929600206553 segundos e 940 movimentos\n",
      "[[3, 4, 1], [8, 0, 6], [7, 2, 5]] :\n",
      "\n",
      "Solucionado em 0.06612904699795763 segundos e 336 movimentos\n",
      "[[0, 2, 7], [3, 4, 1], [6, 8, 5]] :\n",
      "1500....3000....\n",
      "Solucionado em 4.691284330001508 segundos e 4132 movimentos\n",
      "[[2, 4, 1], [8, 0, 3], [5, 7, 6]] :\n",
      "\n",
      "Solucionado em 0.013585840002633631 segundos e 112 movimentos\n",
      "[[8, 4, 3], [2, 7, 1], [0, 5, 6]] :\n",
      "\n",
      "Solucionado em 0.5372909760008042 segundos e 1335 movimentos\n",
      "[[7, 5, 4], [3, 8, 6], [1, 0, 2]] :\n",
      "\n",
      "Solucionado em 0.2640657749980164 segundos e 919 movimentos\n",
      "[[4, 2, 6], [8, 1, 5], [3, 7, 0]] :\n",
      "\n",
      "Solucionado em 0.5692433450021781 segundos e 1385 movimentos\n",
      "[[5, 2, 6], [4, 8, 7], [0, 3, 1]] :\n",
      "\n",
      "Solucionado em 0.2263348029991903 segundos e 845 movimentos\n",
      "[[7, 4, 0], [6, 8, 1], [5, 3, 2]] :\n",
      "\n",
      "Solucionado em 0.01923365900074714 segundos e 144 movimentos\n",
      "[[0, 5, 3], [4, 7, 1], [8, 6, 2]] :\n",
      "\n",
      "Solucionado em 0.24709962300039479 segundos e 844 movimentos\n",
      "[[4, 8, 1], [3, 7, 0], [6, 5, 2]] :\n",
      "1500....\n",
      "Solucionado em 1.0680953819974093 segundos e 1532 movimentos\n",
      "[[7, 2, 1], [8, 3, 5], [4, 6, 0]] :\n",
      "\n",
      "Solucionado em 0.08441701599804219 segundos e 358 movimentos\n",
      "[[6, 8, 2], [5, 3, 7], [0, 1, 4]] :\n",
      "\n",
      "Solucionado em 0.466074904998095 segundos e 1015 movimentos\n",
      "[[6, 3, 2], [8, 0, 7], [5, 4, 1]] :\n",
      "1500....3000....4500....6000....7500....9000....\n",
      "Solucionado em 26.96972951800126 segundos e 9805 movimentos\n",
      "[[4, 8, 7], [6, 2, 5], [3, 0, 1]] :\n",
      "1500....3000....\n",
      "Solucionado em 4.941160572001536 segundos e 3934 movimentos\n",
      "[[5, 8, 0], [4, 3, 6], [7, 2, 1]] :\n",
      "1500....3000....4500....\n",
      "Solucionado em 6.958489610999095 segundos e 5705 movimentos\n",
      "[[2, 0, 6], [4, 1, 7], [5, 3, 8]] :\n",
      "\n",
      "Solucionado em 0.4634644109974033 segundos e 1250 movimentos\n",
      "[[7, 8, 6], [0, 4, 5], [1, 3, 2]] :\n",
      "1500....3000....4500....\n",
      "Solucionado em 8.246230470998853 segundos e 5997 movimentos\n",
      "[[1, 0, 7], [4, 2, 5], [6, 8, 3]] :\n",
      "\n",
      "Solucionado em 0.4814457530010259 segundos e 1368 movimentos\n",
      "[[0, 2, 7], [1, 3, 8], [5, 4, 6]] :\n",
      "\n",
      "Solucionado em 0.016754791999119334 segundos e 141 movimentos\n",
      "[[5, 6, 3], [1, 8, 2], [0, 7, 4]] :\n",
      "1500....\n",
      "Solucionado em 1.007152751000831 segundos e 2027 movimentos\n",
      "[[6, 1, 4], [7, 2, 3], [5, 0, 8]] :\n",
      "\n",
      "Solucionado em 0.021497632998944027 segundos e 171 movimentos\n",
      "[[7, 1, 2], [4, 5, 8], [0, 3, 6]] :\n",
      "1500....3000....\n",
      "Solucionado em 3.7969475709978724 segundos e 4129 movimentos\n",
      "[[6, 7, 8], [0, 4, 5], [1, 3, 2]] :\n",
      "\n",
      "Solucionado em 0.18468432100053178 segundos e 671 movimentos\n",
      "[[4, 1, 8], [7, 3, 6], [0, 5, 2]] :\n",
      "\n",
      "Solucionado em 0.029847828001948074 segundos e 230 movimentos\n",
      "[[3, 4, 8], [7, 2, 6], [1, 5, 0]] :\n",
      "1500....\n",
      "Solucionado em 2.125984674999927 segundos e 2819 movimentos\n",
      "[[2, 3, 5], [1, 6, 0], [8, 7, 4]] :\n",
      "\n",
      "Solucionado em 0.044450531000620686 segundos e 287 movimentos\n",
      "[[1, 7, 2], [6, 8, 0], [3, 5, 4]] :\n",
      "\n",
      "Solucionado em 0.030246195001382148 segundos e 208 movimentos\n",
      "[[4, 2, 0], [1, 6, 3], [8, 5, 7]] :\n",
      "1500....\n",
      "Solucionado em 1.2763349749984627 segundos e 2308 movimentos\n",
      "[[4, 2, 8], [6, 3, 1], [7, 0, 5]] :\n",
      "\n",
      "Solucionado em 0.027741687001253013 segundos e 190 movimentos\n",
      "[[1, 4, 7], [8, 3, 0], [6, 5, 2]] :\n",
      "\n",
      "Solucionado em 0.1395282590019633 segundos e 575 movimentos\n",
      "[[1, 5, 0], [7, 8, 2], [3, 6, 4]] :\n",
      "\n",
      "Solucionado em 0.006870151002658531 segundos e 65 movimentos\n",
      "[[7, 5, 3], [2, 8, 1], [0, 4, 6]] :\n",
      "\n",
      "Solucionado em 0.21301243099878775 segundos e 748 movimentos\n",
      "[[0, 2, 3], [6, 1, 7], [4, 8, 5]] :\n",
      "\n",
      "Solucionado em 0.2140054740011692 segundos e 835 movimentos\n",
      "[[1, 8, 2], [5, 4, 0], [3, 7, 6]] :\n",
      "1500....\n",
      "Solucionado em 0.7733428300016385 segundos e 1711 movimentos\n",
      "[[7, 2, 8], [1, 3, 6], [4, 5, 0]] :\n",
      "1500....\n",
      "Solucionado em 1.5798650399992766 segundos e 2417 movimentos\n",
      "[[4, 6, 5], [1, 7, 2], [3, 8, 0]] :\n",
      "\n",
      "Solucionado em 0.5624435829995491 segundos e 1294 movimentos\n",
      "[[6, 0, 2], [3, 4, 8], [5, 1, 7]] :\n",
      "\n",
      "Solucionado em 0.0843579869979294 segundos e 422 movimentos\n",
      "[[7, 5, 4], [0, 2, 8], [6, 3, 1]] :\n",
      "\n",
      "Solucionado em 0.5647186630012584 segundos e 1266 movimentos\n",
      "[[4, 5, 6], [8, 7, 1], [2, 3, 0]] :\n",
      "\n",
      "Solucionado em 0.3899836860000505 segundos e 1165 movimentos\n",
      "[[6, 1, 0], [8, 4, 7], [3, 2, 5]] :\n",
      "1500....3000....4500....\n",
      "Solucionado em 9.930593519002286 segundos e 5503 movimentos\n",
      "[[3, 4, 5], [0, 7, 2], [1, 6, 8]] :\n",
      "1500....3000....\n",
      "Solucionado em 2.8910148109971487 segundos e 3148 movimentos\n",
      "[[5, 0, 8], [4, 1, 2], [6, 3, 7]] :\n",
      "\n",
      "Solucionado em 0.013330615001905244 segundos e 97 movimentos\n",
      "[[8, 0, 2], [1, 3, 6], [7, 4, 5]] :\n",
      "1500....\n",
      "Solucionado em 2.235886860999017 segundos e 2789 movimentos\n",
      "[[1, 5, 4], [7, 0, 3], [6, 2, 8]] :\n",
      "1500....3000....\n",
      "Solucionado em 2.6905892549984856 segundos e 3412 movimentos\n",
      "[[6, 0, 5], [8, 4, 1], [3, 2, 7]] :\n",
      "1500....3000....\n",
      "Solucionado em 4.744385598998633 segundos e 4164 movimentos\n",
      "[[4, 0, 2], [1, 8, 6], [7, 3, 5]] :\n",
      "\n",
      "Solucionado em 0.4437931450011092 segundos e 1288 movimentos\n",
      "[[6, 2, 0], [5, 8, 4], [3, 1, 7]] :\n",
      "1500....\n",
      "Solucionado em 1.7432320179977978 segundos e 2382 movimentos\n",
      "[[5, 3, 2], [0, 8, 1], [7, 6, 4]] :\n",
      "1500....\n",
      "Solucionado em 1.453471749999153 segundos e 2283 movimentos\n",
      "[[3, 8, 0], [4, 7, 1], [6, 2, 5]] :\n",
      "\n",
      "Solucionado em 0.08754264399976819 segundos e 140 movimentos\n",
      "[[3, 7, 2], [5, 0, 1], [6, 8, 4]] :\n",
      "1500....3000....4500....6000....7500....9000....10500....12000....13500....15000....\n",
      "Falhou em 48.66030323000086 segundos e 15001 movimentos\n",
      "[[0, 5, 3], [1, 7, 2], [4, 8, 6]] :\n",
      "\n",
      "Solucionado em 0.1415902949993324 segundos e 692 movimentos\n",
      "[[6, 2, 7], [0, 1, 3], [5, 8, 4]] :\n",
      "1500....\n",
      "Solucionado em 0.707777741998143 segundos e 1552 movimentos\n",
      "[[8, 2, 1], [3, 4, 5], [6, 0, 7]] :\n",
      "1500....3000....4500....6000....7500....\n",
      "Solucionado em 15.260090594001667 segundos e 7992 movimentos\n",
      "[[2, 3, 0], [4, 7, 1], [5, 6, 8]] :\n",
      "\n",
      "Solucionado em 0.29116403400257695 segundos e 949 movimentos\n",
      "[[0, 6, 2], [3, 8, 5], [7, 4, 1]] :\n",
      "1500....\n",
      "Solucionado em 2.090792495000642 segundos e 2861 movimentos\n",
      "[[7, 3, 2], [5, 0, 4], [8, 1, 6]] :\n",
      "\n",
      "Solucionado em 0.1836502659971302 segundos e 739 movimentos\n",
      "[[3, 8, 4], [5, 2, 7], [6, 0, 1]] :\n",
      "1500....3000....\n",
      "Solucionado em 2.8793673220025084 segundos e 3012 movimentos\n",
      "[[5, 3, 1], [8, 0, 4], [6, 2, 7]] :\n",
      "1500....3000....\n",
      "Solucionado em 3.494326807998732 segundos e 3556 movimentos\n",
      "[[1, 2, 7], [3, 8, 0], [6, 5, 4]] :\n",
      "\n",
      "Solucionado em 0.12351140499959001 segundos e 546 movimentos\n",
      "[[0, 7, 1], [8, 5, 2], [3, 4, 6]] :\n",
      "\n",
      "Solucionado em 0.4540058210004645 segundos e 1070 movimentos\n",
      "[[6, 0, 3], [7, 4, 5], [1, 8, 2]] :\n",
      "1500....3000....4500....\n",
      "Solucionado em 5.888031899998168 segundos e 5142 movimentos\n",
      "[[0, 1, 2], [4, 8, 7], [6, 3, 5]] :\n",
      "\n",
      "Solucionado em 0.08187007700325921 segundos e 441 movimentos\n",
      "Solucionados 99 e não solucionados 1\n"
     ]
    },
    {
     "data": {
      "text/plain": [
       "<Figure size 1400x700 with 1 Axes>"
      ],
      "image/png": "[encoded data removed]"
     },
     "metadata": {},
     "output_type": "display_data"
    }
   ],
   "execution_count": 545
  }
 ],
 "metadata": {
  "kernelspec": {
   "display_name": "Python 3",
   "language": "python",
   "name": "python3"
  },
  "language_info": {
   "codemirror_mode": {
    "name": "ipython",
    "version": 2
   },
   "file_extension": ".py",
   "mimetype": "text/x-python",
   "name": "python",
   "nbconvert_exporter": "python",
   "pygments_lexer": "ipython2",
   "version": "2.7.6"
  }
 },
 "nbformat": 4,
 "nbformat_minor": 5
}
