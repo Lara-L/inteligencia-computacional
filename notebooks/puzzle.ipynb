{
 "cells": [
  {
   "cell_type": "code",
   "id": "b454e04f465740fd",
   "metadata": {
    "ExecuteTime": {
     "end_time": "2024-11-02T21:50:59.448089Z",
     "start_time": "2024-11-02T21:50:59.297974Z"
    }
   },
   "source": [
    "import timeit\n",
    "import random\n",
    "import copy\n",
    "from typing import no_type_check_decorator"
   ],
   "outputs": [],
   "execution_count": 546
  },
  {
   "cell_type": "code",
   "id": "initial_id",
   "metadata": {
    "collapsed": true,
    "jupyter": {
     "outputs_hidden": true
    },
    "ExecuteTime": {
     "end_time": "2024-11-02T21:50:59.516931Z",
     "start_time": "2024-11-02T21:50:59.492613Z"
    }
   },
   "source": [
    "META = [[1,2,3],[4,5,6],[7,8,0]]"
   ],
   "outputs": [],
   "execution_count": 547
  },
  {
   "cell_type": "code",
   "id": "fc34ad172074d2a6",
   "metadata": {
    "ExecuteTime": {
     "end_time": "2024-11-02T21:50:59.720757Z",
     "start_time": "2024-11-02T21:50:59.701535Z"
    }
   },
   "source": [
    "class No:\n",
    "  def __init__(self, estado, nopai, g, h):\n",
    "    self.estado = estado\n",
    "    self.pai = nopai\n",
    "    self.g = g\n",
    "    self.h = h\n",
    "    \n",
    "  def __eq__(self, outro):\n",
    "    return self.estado == outro.estado\n",
    " \n",
    "  def __repr__(self):\n",
    "    return str(self.estado)\n",
    "  \n",
    "  def getState(self):\n",
    "    return self.estado\n",
    "    "
   ],
   "outputs": [],
   "execution_count": 548
  },
  {
   "cell_type": "code",
   "id": "65aee7e82ae6920b",
   "metadata": {
    "ExecuteTime": {
     "end_time": "2024-11-02T21:50:59.786057Z",
     "start_time": "2024-11-02T21:50:59.768465Z"
    }
   },
   "source": [
    "def solucionavel(lista):\n",
    "  inversoes = 0\n",
    "  for i,e in enumerate(lista):\n",
    "    if e == 0:\n",
    "      continue\n",
    "    for j in range(i+1, len(lista)):\n",
    "      if lista[j] == 0:\n",
    "        continue\n",
    "      if e > lista[j]:\n",
    "        inversoes += 1\n",
    "  if inversoes % 2 == 1:\n",
    "    return False\n",
    "  else:\n",
    "    return True"
   ],
   "outputs": [],
   "execution_count": 549
  },
  {
   "cell_type": "code",
   "id": "db31f7c281806f47",
   "metadata": {
    "ExecuteTime": {
     "end_time": "2024-11-02T21:50:59.870893Z",
     "start_time": "2024-11-02T21:50:59.849028Z"
    }
   },
   "source": [
    "def geraInicial(st=META[:]):\n",
    "  lista = [j for i in st for j in i]\n",
    "  while True:\n",
    "    random.shuffle(lista)\n",
    "    st = [lista[:3]] + [lista[3:6]]+[lista[6:]]\n",
    "    if solucionavel(lista) and st != META: return st\n",
    "  return 0"
   ],
   "outputs": [],
   "execution_count": 550
  },
  {
   "cell_type": "code",
   "id": "4333e5230c387675",
   "metadata": {
    "ExecuteTime": {
     "end_time": "2024-11-02T21:50:59.960954Z",
     "start_time": "2024-11-02T21:50:59.942863Z"
    }
   },
   "source": [
    "##geraInicial()"
   ],
   "outputs": [],
   "execution_count": 551
  },
  {
   "cell_type": "code",
   "id": "e683682939dd1ffe",
   "metadata": {
    "ExecuteTime": {
     "end_time": "2024-11-02T21:51:00.053161Z",
     "start_time": "2024-11-02T21:51:00.043167Z"
    }
   },
   "source": [
    "def localizar(estado, elemento = 0):\n",
    "  for i in range(3):\n",
    "    for j in range(3):\n",
    "      if estado[i][j] == elemento:\n",
    "        linha = i \n",
    "        coluna = j\n",
    "        return linha, coluna"
   ],
   "outputs": [],
   "execution_count": 552
  },
  {
   "cell_type": "code",
   "id": "26c9d207c3311f7f",
   "metadata": {
    "ExecuteTime": {
     "end_time": "2024-11-02T21:51:00.105890Z",
     "start_time": "2024-11-02T21:51:00.099165Z"
    }
   },
   "source": [
    "def distanciaQuarteirao(st1, st2):\n",
    "  dist = 0\n",
    "  fora = 0\n",
    "  for i in range(3):\n",
    "    for j in range(3):\n",
    "      if st1[i][j] == 0:\n",
    "        continue\n",
    "      i2, j2 = localizar(st2, st1[i][j])\n",
    "      if i2 != i or j2 != j: fora += 1\n",
    "      dist += abs(i2 - i) + abs(j2 - j)\n",
    "  return dist + fora "
   ],
   "outputs": [],
   "execution_count": 553
  },
  {
   "cell_type": "code",
   "id": "4272c30621097a09",
   "metadata": {
    "ExecuteTime": {
     "end_time": "2024-11-02T21:51:00.164071Z",
     "start_time": "2024-11-02T21:51:00.153881Z"
    }
   },
   "source": [
    "def criarNo(estado, pai, g = 0):\n",
    "  h = g + distanciaQuarteirao(estado, META)\n",
    "  return No(estado, pai, g, h)"
   ],
   "outputs": [],
   "execution_count": 554
  },
  {
   "cell_type": "code",
   "id": "492711361949de50",
   "metadata": {
    "ExecuteTime": {
     "end_time": "2024-11-02T21:51:00.249981Z",
     "start_time": "2024-11-02T21:51:00.233122Z"
    }
   },
   "source": [
    "def inserirNo(no, fronteira):\n",
    "  if no in fronteira:\n",
    "    return fronteira\n",
    "  fronteira.append(no)\n",
    "  chave = fronteira[-1]\n",
    "  j = len(fronteira)-2\n",
    "  while fronteira[j].h > chave.h and j >= 0:\n",
    "    fronteira[j+1] = fronteira[j]\n",
    "    fronteira[j] = chave\n",
    "    j -= 1\n",
    "  return fronteira"
   ],
   "outputs": [],
   "execution_count": 555
  },
  {
   "cell_type": "code",
   "id": "9608d845537487c5",
   "metadata": {
    "ExecuteTime": {
     "end_time": "2024-11-02T21:51:00.335445Z",
     "start_time": "2024-11-02T21:51:00.301906Z"
    }
   },
   "source": [
    "def moverAbaixo(estado):\n",
    "  linha, coluna = localizar(estado)\n",
    "  if linha < 2:\n",
    "    estado[linha + 1][coluna], estado[linha][coluna] = estado[linha][coluna], estado[linha+1][coluna]\n",
    "  return estado\n",
    "\n",
    "\n",
    "def moverAcima(estado):\n",
    "  linha, coluna = localizar(estado)\n",
    "  if linha > 0:\n",
    "    estado[linha - 1][coluna], estado[linha][coluna] = estado[linha][coluna], estado[linha - 1][\n",
    "      coluna]\n",
    "  return estado\n",
    "\n",
    "\n",
    "def moverDireita(estado):\n",
    "  linha, coluna = localizar(estado)\n",
    "  if coluna < 2:\n",
    "    estado[linha][coluna + 1], estado[linha][coluna] = estado[linha][coluna], estado[linha][\n",
    "      coluna + 1]\n",
    "  return estado\n",
    "\n",
    "\n",
    "def moverEsquerda(estado):\n",
    "  linha, coluna = localizar(estado)\n",
    "  if coluna > 0:\n",
    "    estado[linha][coluna - 1], estado[linha][coluna] = estado[linha][coluna], estado[linha][\n",
    "      coluna - 1]\n",
    "  return estado"
   ],
   "outputs": [],
   "execution_count": 556
  },
  {
   "cell_type": "code",
   "id": "bf10082351ceda1e",
   "metadata": {
    "ExecuteTime": {
     "end_time": "2024-11-02T21:51:00.398113Z",
     "start_time": "2024-11-02T21:51:00.379741Z"
    }
   },
   "source": [
    "def sucessor(no):\n",
    "  estado = no.estado\n",
    "  pai = no.pai\n",
    "  if pai:\n",
    "    estadoPai = pai.estado\n",
    "  else:\n",
    "    estadoPai = None\n",
    "    \n",
    "  listaS = []\n",
    "  \n",
    "  l1 = moverAcima(copy.deepcopy(estado))\n",
    "  if l1 != estado:\n",
    "    listaS.append(l1)\n",
    "    \n",
    "  l2 = moverDireita(copy.deepcopy(estado))\n",
    "  if l2 != estado:\n",
    "    listaS.append(l2)\n",
    "    \n",
    "  l3 = moverAbaixo(copy.deepcopy(estado))\n",
    "  if l3 != estado:\n",
    "    listaS.append(l3)\n",
    "    \n",
    "  l4 = moverEsquerda(copy.deepcopy(estado))\n",
    "  if l4 != estado:\n",
    "    listaS.append(l4)\n",
    "    \n",
    "  return listaS"
   ],
   "outputs": [],
   "execution_count": 557
  },
  {
   "cell_type": "code",
   "id": "dd380c5ad84442c9",
   "metadata": {
    "ExecuteTime": {
     "end_time": "2024-11-02T21:51:00.468075Z",
     "start_time": "2024-11-02T21:51:00.443516Z"
    }
   },
   "source": [
    "def busca(max, noInicio):\n",
    "  print(noInicio, \":\")\n",
    "  nmov = 0\n",
    "  borda = [noInicio]\n",
    "  while borda:\n",
    "    no = borda.pop(0)\n",
    "    if no.estado == META:\n",
    "      sol = []\n",
    "      while True:\n",
    "        sol.append(no.estado)\n",
    "        no = no.pai\n",
    "        if not no: break\n",
    "      sol.reverse()\n",
    "      return sol, nmov\n",
    "    \n",
    "    nmov += 1\n",
    "\n",
    "    if (nmov%(max/10)) == 0: print(nmov, end = \"....\")\n",
    "    if nmov > max: break\n",
    "    sucs = sucessor(no)\n",
    "    for s in sucs:\n",
    "      inserirNo(criarNo(s, no, no.g+1), borda)\n",
    "  return 0, nmov"
   ],
   "outputs": [],
   "execution_count": 558
  },
  {
   "cell_type": "code",
   "id": "5d32f0736623e2bb",
   "metadata": {
    "ExecuteTime": {
     "end_time": "2024-11-02T21:51:00.534420Z",
     "start_time": "2024-11-02T21:51:00.510997Z"
    }
   },
   "source": [
    "def puzzle(maxD, nAmostras):\n",
    "  tempos = []\n",
    "  solucionados =[]\n",
    "  solucoes = []\n",
    "  naoSolucionados = []\n",
    "  nS = 0\n",
    "  nNs = 0\n",
    "  \n",
    "  for i in range(nAmostras):\n",
    "    noInicial = criarNo(geraInicial(), None)\n",
    "    start_time = timeit.default_timer()\n",
    "    res, nmov = busca(maxD, noInicial)\n",
    "    tempo = timeit.default_timer() - start_time\n",
    "    if res:\n",
    "      solucoes.append(res)\n",
    "      print(\"\\nSolucionado em {} segundos e {} movimentos\".format(tempo, nmov))\n",
    "      tempos.append(tempo)\n",
    "      solucionados.append((noInicial.estado, nmov))\n",
    "      nS += 1\n",
    "    else:\n",
    "      print(\"\\nFalhou em {} segundos e {} movimentos\".format(tempo, nmov))\n",
    "      naoSolucionados.append((noInicial.estado, nmov))\n",
    "      tempos.append(None)\n",
    "      nNs += 1\n",
    "  print(\"Solucionados {} e não solucionados {}\".format(nS, nNs))\n",
    "  return tempos, solucionados, naoSolucionados, nS, nNs\n",
    "  "
   ],
   "outputs": [],
   "execution_count": 559
  },
  {
   "cell_type": "code",
   "id": "7990c435231d3778",
   "metadata": {
    "ExecuteTime": {
     "end_time": "2024-11-02T21:51:13.590716Z",
     "start_time": "2024-11-02T21:51:00.598271Z"
    }
   },
   "source": [
    "sol = puzzle(3000, 10)"
   ],
   "outputs": [
    {
     "name": "stdout",
     "output_type": "stream",
     "text": [
      "[[8, 6, 3], [2, 5, 7], [0, 4, 1]] :\n",
      "300....600....900....1200....1500....1800....2100....2400....2700....3000....\n",
      "Falhou em 3.1950283989972377 segundos e 3001 movimentos\n",
      "[[6, 0, 5], [3, 7, 8], [1, 4, 2]] :\n",
      "\n",
      "Solucionado em 0.005972099999780767 segundos e 49 movimentos\n",
      "[[3, 8, 5], [1, 0, 4], [7, 2, 6]] :\n",
      "\n",
      "Solucionado em 0.031337894000898814 segundos e 223 movimentos\n",
      "[[5, 2, 1], [8, 3, 4], [7, 6, 0]] :\n",
      "300....600....900....1200....1500....\n",
      "Solucionado em 0.7913122809986817 segundos e 1626 movimentos\n",
      "[[4, 7, 6], [1, 0, 3], [8, 5, 2]] :\n",
      "300....600....900....1200....1500....1800....2100....2400....2700....3000....\n",
      "Falhou em 3.549607818000368 segundos e 3001 movimentos\n",
      "[[3, 1, 8], [2, 4, 6], [0, 5, 7]] :\n",
      "300....\n",
      "Solucionado em 0.12747146900073858 segundos e 571 movimentos\n",
      "[[0, 8, 2], [3, 6, 1], [7, 4, 5]] :\n",
      "300....600....900....1200....1500....1800....2100....2400....2700....3000....\n",
      "Falhou em 2.5167207839986077 segundos e 3001 movimentos\n",
      "[[7, 0, 2], [3, 6, 5], [8, 4, 1]] :\n",
      "300....600....900....\n",
      "Solucionado em 0.45163423199846875 segundos e 1183 movimentos\n",
      "[[6, 3, 7], [1, 4, 2], [5, 8, 0]] :\n",
      "300....600....900....1200....1500....1800....\n",
      "Solucionado em 1.019631658000435 segundos e 1850 movimentos\n",
      "[[5, 3, 8], [1, 0, 6], [7, 4, 2]] :\n",
      "300....600....900....1200....1500....1800....2100....\n",
      "Solucionado em 1.2950729010008217 segundos e 2211 movimentos\n",
      "Solucionados 7 e não solucionados 3\n"
     ]
    }
   ],
   "execution_count": 560
  },
  {
   "cell_type": "code",
   "id": "58bd253d3ed32c5",
   "metadata": {
    "ExecuteTime": {
     "end_time": "2024-11-02T21:51:13.611567Z",
     "start_time": "2024-11-02T21:51:13.606427Z"
    }
   },
   "source": [
    "import matplotlib as mpl\n",
    "import matplotlib.pyplot as plt"
   ],
   "outputs": [],
   "execution_count": 561
  },
  {
   "cell_type": "code",
   "id": "1f12b00d39c001e7",
   "metadata": {
    "ExecuteTime": {
     "end_time": "2024-11-02T21:51:14.038225Z",
     "start_time": "2024-11-02T21:51:13.653541Z"
    }
   },
   "source": [
    "a, b, f, x, y = sol\n",
    "movimentos =[i[1] for i in b]\n",
    "plt.rcParams['figure.figsize'] = [14,7]\n",
    "n, b, p = plt.hist(movimentos, 10, facecolor = 'g', alpha = 0.75)\n",
    "plt.xlabel('Número de movimento')\n",
    "plt.ylabel('Casos')\n",
    "plt.title('Histograma da resolução do Puzzle')\n",
    "plt.grid(True)\n",
    "plt.show()"
   ],
   "outputs": [
    {
     "data": {
      "text/plain": [
       "<Figure size 1400x700 with 1 Axes>"
      ],
      "image/png": "[encoded data removed]"
     },
     "metadata": {},
     "output_type": "display_data"
    }
   ],
   "execution_count": 562
  },
  {
   "cell_type": "code",
   "id": "85c0561be9301704",
   "metadata": {
    "ExecuteTime": {
     "end_time": "2024-11-02T21:52:52.521822Z",
     "start_time": "2024-11-02T21:51:14.057684Z"
    }
   },
   "source": [
    "a, b, c, d, e = puzzle(15000, 100)\n",
    "n, b, p = plt.hist(movimentos, 10, facecolor = 'b', alpha = 0.55, label = 'Movimentos')\n",
    "plt.xlabel('Número de movimento')\n",
    "plt.ylabel('Casos')\n",
    "plt.title('Histograma da resolução do Puzzle')\n",
    "plt.grid(True)\n",
    "plt.show()"
   ],
   "outputs": [
    {
     "name": "stdout",
     "output_type": "stream",
     "text": [
      "[[7, 0, 6], [2, 5, 1], [8, 4, 3]] :\n",
      "\n",
      "Solucionado em 0.44567422199907014 segundos e 1016 movimentos\n",
      "[[4, 3, 7], [6, 8, 5], [2, 0, 1]] :\n",
      "1500....\n",
      "Solucionado em 2.5925499980003224 segundos e 2950 movimentos\n",
      "[[5, 1, 7], [4, 8, 0], [2, 6, 3]] :\n",
      "\n",
      "Solucionado em 0.4597227450030914 segundos e 881 movimentos\n",
      "[[1, 7, 0], [3, 2, 8], [5, 4, 6]] :\n",
      "\n",
      "Solucionado em 0.19492252200143412 segundos e 660 movimentos\n",
      "[[2, 3, 6], [0, 4, 5], [8, 7, 1]] :\n",
      "1500....3000....\n",
      "Solucionado em 2.5159507440002926 segundos e 3036 movimentos\n",
      "[[1, 2, 6], [0, 3, 5], [4, 7, 8]] :\n",
      "\n",
      "Solucionado em 0.021876784001506167 segundos e 183 movimentos\n",
      "[[3, 5, 6], [4, 2, 7], [1, 0, 8]] :\n",
      "\n",
      "Solucionado em 0.373351491001813 segundos e 1097 movimentos\n",
      "[[5, 3, 6], [4, 1, 2], [8, 7, 0]] :\n",
      "\n",
      "Solucionado em 0.28687426000033156 segundos e 972 movimentos\n",
      "[[4, 5, 0], [8, 7, 6], [2, 3, 1]] :\n",
      "1500....\n",
      "Solucionado em 1.454516641999362 segundos e 2133 movimentos\n",
      "[[4, 2, 5], [0, 6, 7], [3, 8, 1]] :\n",
      "1500....3000....\n",
      "Solucionado em 5.302526872001181 segundos e 4356 movimentos\n",
      "[[5, 3, 0], [4, 8, 2], [7, 6, 1]] :\n",
      "\n",
      "Solucionado em 0.1719471269971109 segundos e 746 movimentos\n",
      "[[5, 8, 7], [2, 0, 1], [4, 6, 3]] :\n",
      "\n",
      "Solucionado em 0.013505679999070708 segundos e 99 movimentos\n",
      "[[5, 6, 7], [4, 2, 8], [1, 3, 0]] :\n",
      "\n",
      "Solucionado em 0.4182970910005679 segundos e 1178 movimentos\n",
      "[[8, 6, 7], [1, 5, 2], [3, 4, 0]] :\n",
      "1500....\n",
      "Solucionado em 1.3194555479967676 segundos e 1963 movimentos\n",
      "[[0, 7, 5], [2, 6, 8], [3, 1, 4]] :\n",
      "\n",
      "Solucionado em 0.01197628100271686 segundos e 99 movimentos\n",
      "[[2, 5, 0], [8, 7, 4], [3, 1, 6]] :\n",
      "\n",
      "Solucionado em 0.45471056300084456 segundos e 1193 movimentos\n",
      "[[8, 2, 0], [3, 6, 4], [7, 5, 1]] :\n",
      "1500....\n",
      "Solucionado em 1.2254934560005495 segundos e 2081 movimentos\n",
      "[[0, 5, 3], [8, 4, 6], [1, 7, 2]] :\n",
      "\n",
      "Solucionado em 0.25425262200224097 segundos e 989 movimentos\n",
      "[[7, 5, 0], [8, 1, 2], [4, 3, 6]] :\n",
      "\n",
      "Solucionado em 0.18427738299942575 segundos e 521 movimentos\n",
      "[[4, 0, 5], [8, 1, 2], [7, 6, 3]] :\n",
      "\n",
      "Solucionado em 0.001740667001286056 segundos e 17 movimentos\n",
      "[[3, 0, 1], [8, 2, 4], [6, 5, 7]] :\n",
      "1500....3000....4500....\n",
      "Solucionado em 7.089216240001406 segundos e 5258 movimentos\n",
      "[[2, 3, 6], [1, 0, 8], [7, 4, 5]] :\n",
      "\n",
      "Solucionado em 0.0038273099999059923 segundos e 37 movimentos\n",
      "[[3, 6, 5], [8, 7, 0], [1, 2, 4]] :\n",
      "\n",
      "Solucionado em 0.042072537002241006 segundos e 266 movimentos\n",
      "[[0, 1, 5], [3, 8, 2], [4, 6, 7]] :\n",
      "\n",
      "Solucionado em 0.007173664002039004 segundos e 64 movimentos\n",
      "[[4, 5, 6], [8, 3, 1], [7, 0, 2]] :\n",
      "1500....\n",
      "Solucionado em 0.7252964399995108 segundos e 1562 movimentos\n",
      "[[8, 4, 1], [2, 0, 7], [5, 3, 6]] :\n",
      "1500....3000....4500....6000....7500....9000....10500....\n",
      "Solucionado em 30.218976190997637 segundos e 11136 movimentos\n",
      "[[0, 8, 3], [5, 1, 7], [2, 6, 4]] :\n",
      "\n",
      "Solucionado em 0.33927774500261876 segundos e 1030 movimentos\n",
      "[[5, 6, 0], [1, 8, 3], [2, 7, 4]] :\n",
      "1500....3000....\n",
      "Solucionado em 3.3833914879978693 segundos e 3558 movimentos\n",
      "[[8, 0, 3], [5, 4, 2], [7, 6, 1]] :\n",
      "1500....\n",
      "Solucionado em 1.3045462890004274 segundos e 2074 movimentos\n",
      "[[4, 3, 6], [5, 1, 8], [2, 0, 7]] :\n",
      "\n",
      "Solucionado em 0.004766109999764012 segundos e 31 movimentos\n",
      "[[6, 2, 0], [8, 3, 5], [4, 7, 1]] :\n",
      "1500....\n",
      "Solucionado em 0.801654740000231 segundos e 1681 movimentos\n",
      "[[4, 5, 7], [8, 0, 6], [3, 2, 1]] :\n",
      "1500....\n",
      "Solucionado em 2.1701310829994327 segundos e 2714 movimentos\n",
      "[[8, 5, 3], [1, 4, 0], [7, 2, 6]] :\n",
      "\n",
      "Solucionado em 0.12461755399999674 segundos e 587 movimentos\n",
      "[[2, 8, 5], [7, 6, 0], [4, 3, 1]] :\n",
      "1500....3000....\n",
      "Solucionado em 4.081465973999002 segundos e 3597 movimentos\n",
      "[[0, 8, 7], [4, 5, 1], [6, 3, 2]] :\n",
      "\n",
      "Solucionado em 0.04237002000081702 segundos e 264 movimentos\n",
      "[[3, 2, 6], [1, 0, 4], [5, 7, 8]] :\n",
      "\n",
      "Solucionado em 0.6398265620009624 segundos e 1496 movimentos\n",
      "[[7, 2, 4], [0, 3, 5], [6, 1, 8]] :\n",
      "1500....\n",
      "Solucionado em 1.4277728849992855 segundos e 2185 movimentos\n",
      "[[2, 8, 5], [6, 3, 4], [7, 0, 1]] :\n",
      "\n",
      "Solucionado em 0.27540989900080604 segundos e 820 movimentos\n",
      "[[1, 6, 4], [7, 0, 8], [5, 2, 3]] :\n",
      "\n",
      "Solucionado em 0.3735746880010993 segundos e 1069 movimentos\n",
      "[[6, 5, 8], [4, 3, 7], [0, 2, 1]] :\n",
      "1500....\n",
      "Solucionado em 1.6983149719999346 segundos e 2207 movimentos\n",
      "[[3, 8, 0], [4, 1, 7], [5, 2, 6]] :\n",
      "1500....\n",
      "Solucionado em 2.0607205440028338 segundos e 2683 movimentos\n",
      "[[6, 5, 2], [0, 1, 4], [8, 7, 3]] :\n",
      "\n",
      "Solucionado em 0.49754023700006655 segundos e 1277 movimentos\n",
      "[[3, 6, 5], [0, 1, 8], [4, 7, 2]] :\n",
      "\n",
      "Solucionado em 0.008776358001341578 segundos e 73 movimentos\n",
      "[[3, 5, 6], [7, 8, 1], [0, 2, 4]] :\n",
      "\n",
      "Solucionado em 0.02251072299986845 segundos e 167 movimentos\n",
      "[[8, 1, 6], [4, 7, 2], [3, 0, 5]] :\n",
      "\n",
      "Solucionado em 0.3418345619975298 segundos e 936 movimentos\n",
      "[[1, 3, 6], [5, 8, 0], [7, 4, 2]] :\n",
      "\n",
      "Solucionado em 0.5043171620018256 segundos e 931 movimentos\n",
      "[[0, 5, 8], [1, 2, 4], [3, 7, 6]] :\n",
      "1500....\n",
      "Solucionado em 1.4447150269988924 segundos e 2263 movimentos\n",
      "[[0, 3, 7], [1, 2, 6], [5, 4, 8]] :\n",
      "\n",
      "Solucionado em 0.004394817999127554 segundos e 42 movimentos\n",
      "[[2, 7, 1], [8, 5, 6], [0, 3, 4]] :\n",
      "\n",
      "Solucionado em 0.5066629529974307 segundos e 1108 movimentos\n",
      "[[4, 7, 3], [0, 5, 8], [6, 2, 1]] :\n",
      "1500....\n",
      "Solucionado em 0.843063815998903 segundos e 1641 movimentos\n",
      "[[2, 4, 5], [6, 1, 7], [0, 3, 8]] :\n",
      "1500....3000....4500....\n",
      "Solucionado em 8.79567845999918 segundos e 5855 movimentos\n",
      "[[7, 2, 5], [1, 6, 8], [3, 0, 4]] :\n",
      "\n",
      "Solucionado em 0.39687253200099804 segundos e 874 movimentos\n",
      "[[3, 2, 0], [8, 1, 4], [5, 6, 7]] :\n",
      "1500....3000....4500....\n",
      "Solucionado em 6.770511605001957 segundos e 4877 movimentos\n",
      "[[3, 7, 8], [4, 6, 2], [1, 0, 5]] :\n",
      "1500....\n",
      "Solucionado em 1.44846874599898 segundos e 2260 movimentos\n",
      "[[5, 6, 2], [0, 3, 1], [7, 8, 4]] :\n",
      "1500....\n",
      "Solucionado em 1.282785444000183 segundos e 2263 movimentos\n",
      "[[3, 6, 1], [2, 7, 5], [8, 4, 0]] :\n",
      "1500...."
     ]
    },
    {
     "ename": "KeyboardInterrupt",
     "evalue": "",
     "output_type": "error",
     "traceback": [
      "\u001B[0;31m---------------------------------------------------------------------------\u001B[0m",
      "\u001B[0;31mKeyboardInterrupt\u001B[0m                         Traceback (most recent call last)",
      "Cell \u001B[0;32mIn[563], line 1\u001B[0m\n\u001B[0;32m----> 1\u001B[0m a, b, c, d, e \u001B[38;5;241m=\u001B[39m \u001B[43mpuzzle\u001B[49m\u001B[43m(\u001B[49m\u001B[38;5;241;43m15000\u001B[39;49m\u001B[43m,\u001B[49m\u001B[43m \u001B[49m\u001B[38;5;241;43m100\u001B[39;49m\u001B[43m)\u001B[49m\n\u001B[1;32m      2\u001B[0m n, b, p \u001B[38;5;241m=\u001B[39m plt\u001B[38;5;241m.\u001B[39mhist(movimentos, \u001B[38;5;241m10\u001B[39m, facecolor \u001B[38;5;241m=\u001B[39m \u001B[38;5;124m'\u001B[39m\u001B[38;5;124mb\u001B[39m\u001B[38;5;124m'\u001B[39m, alpha \u001B[38;5;241m=\u001B[39m \u001B[38;5;241m0.55\u001B[39m, label \u001B[38;5;241m=\u001B[39m \u001B[38;5;124m'\u001B[39m\u001B[38;5;124mMovimentos\u001B[39m\u001B[38;5;124m'\u001B[39m)\n\u001B[1;32m      3\u001B[0m plt\u001B[38;5;241m.\u001B[39mxlabel(\u001B[38;5;124m'\u001B[39m\u001B[38;5;124mNúmero de movimento\u001B[39m\u001B[38;5;124m'\u001B[39m)\n",
      "Cell \u001B[0;32mIn[559], line 12\u001B[0m, in \u001B[0;36mpuzzle\u001B[0;34m(maxD, nAmostras)\u001B[0m\n\u001B[1;32m     10\u001B[0m noInicial \u001B[38;5;241m=\u001B[39m criarNo(geraInicial(), \u001B[38;5;28;01mNone\u001B[39;00m)\n\u001B[1;32m     11\u001B[0m start_time \u001B[38;5;241m=\u001B[39m timeit\u001B[38;5;241m.\u001B[39mdefault_timer()\n\u001B[0;32m---> 12\u001B[0m res, nmov \u001B[38;5;241m=\u001B[39m \u001B[43mbusca\u001B[49m\u001B[43m(\u001B[49m\u001B[43mmaxD\u001B[49m\u001B[43m,\u001B[49m\u001B[43m \u001B[49m\u001B[43mnoInicial\u001B[49m\u001B[43m)\u001B[49m\n\u001B[1;32m     13\u001B[0m tempo \u001B[38;5;241m=\u001B[39m timeit\u001B[38;5;241m.\u001B[39mdefault_timer() \u001B[38;5;241m-\u001B[39m start_time\n\u001B[1;32m     14\u001B[0m \u001B[38;5;28;01mif\u001B[39;00m res:\n",
      "Cell \u001B[0;32mIn[558], line 22\u001B[0m, in \u001B[0;36mbusca\u001B[0;34m(max, noInicio)\u001B[0m\n\u001B[1;32m     20\u001B[0m   sucs \u001B[38;5;241m=\u001B[39m sucessor(no)\n\u001B[1;32m     21\u001B[0m   \u001B[38;5;28;01mfor\u001B[39;00m s \u001B[38;5;129;01min\u001B[39;00m sucs:\n\u001B[0;32m---> 22\u001B[0m     \u001B[43minserirNo\u001B[49m\u001B[43m(\u001B[49m\u001B[43mcriarNo\u001B[49m\u001B[43m(\u001B[49m\u001B[43ms\u001B[49m\u001B[43m,\u001B[49m\u001B[43m \u001B[49m\u001B[43mno\u001B[49m\u001B[43m,\u001B[49m\u001B[43m \u001B[49m\u001B[43mno\u001B[49m\u001B[38;5;241;43m.\u001B[39;49m\u001B[43mg\u001B[49m\u001B[38;5;241;43m+\u001B[39;49m\u001B[38;5;241;43m1\u001B[39;49m\u001B[43m)\u001B[49m\u001B[43m,\u001B[49m\u001B[43m \u001B[49m\u001B[43mborda\u001B[49m\u001B[43m)\u001B[49m\n\u001B[1;32m     23\u001B[0m \u001B[38;5;28;01mreturn\u001B[39;00m \u001B[38;5;241m0\u001B[39m, nmov\n",
      "Cell \u001B[0;32mIn[555], line 2\u001B[0m, in \u001B[0;36minserirNo\u001B[0;34m(no, fronteira)\u001B[0m\n\u001B[1;32m      1\u001B[0m \u001B[38;5;28;01mdef\u001B[39;00m \u001B[38;5;21minserirNo\u001B[39m(no, fronteira):\n\u001B[0;32m----> 2\u001B[0m   \u001B[38;5;28;01mif\u001B[39;00m \u001B[43mno\u001B[49m\u001B[43m \u001B[49m\u001B[38;5;129;43;01min\u001B[39;49;00m\u001B[43m \u001B[49m\u001B[43mfronteira\u001B[49m:\n\u001B[1;32m      3\u001B[0m     \u001B[38;5;28;01mreturn\u001B[39;00m fronteira\n\u001B[1;32m      4\u001B[0m   fronteira\u001B[38;5;241m.\u001B[39mappend(no)\n",
      "Cell \u001B[0;32mIn[548], line 8\u001B[0m, in \u001B[0;36mNo.__eq__\u001B[0;34m(self, outro)\u001B[0m\n\u001B[1;32m      5\u001B[0m   \u001B[38;5;28mself\u001B[39m\u001B[38;5;241m.\u001B[39mg \u001B[38;5;241m=\u001B[39m g\n\u001B[1;32m      6\u001B[0m   \u001B[38;5;28mself\u001B[39m\u001B[38;5;241m.\u001B[39mh \u001B[38;5;241m=\u001B[39m h\n\u001B[0;32m----> 8\u001B[0m \u001B[38;5;28;01mdef\u001B[39;00m \u001B[38;5;21m__eq__\u001B[39m(\u001B[38;5;28mself\u001B[39m, outro):\n\u001B[1;32m      9\u001B[0m   \u001B[38;5;28;01mreturn\u001B[39;00m \u001B[38;5;28mself\u001B[39m\u001B[38;5;241m.\u001B[39mestado \u001B[38;5;241m==\u001B[39m outro\u001B[38;5;241m.\u001B[39mestado\n\u001B[1;32m     11\u001B[0m \u001B[38;5;28;01mdef\u001B[39;00m \u001B[38;5;21m__repr__\u001B[39m(\u001B[38;5;28mself\u001B[39m):\n",
      "\u001B[0;31mKeyboardInterrupt\u001B[0m: "
     ]
    }
   ],
   "execution_count": 563
  }
 ],
 "metadata": {
  "kernelspec": {
   "display_name": "Python 3 (ipykernel)",
   "language": "python",
   "name": "python3"
  },
  "language_info": {
   "codemirror_mode": {
    "name": "ipython",
    "version": 3
   },
   "file_extension": ".py",
   "mimetype": "text/x-python",
   "name": "python",
   "nbconvert_exporter": "python",
   "pygments_lexer": "ipython3",
   "version": "3.12.3"
  }
 },
 "nbformat": 4,
 "nbformat_minor": 5
}
